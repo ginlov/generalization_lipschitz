{
 "cells": [
  {
   "cell_type": "code",
   "execution_count": null,
   "metadata": {},
   "outputs": [],
   "source": []
  },
  {
   "cell_type": "code",
   "execution_count": 1,
   "metadata": {},
   "outputs": [
    {
     "name": "stderr",
     "output_type": "stream",
     "text": [
      "/Users/leo/miniconda3/envs/dropout-diffusion/lib/python3.9/site-packages/tqdm/auto.py:22: TqdmWarning: IProgress not found. Please update jupyter and ipywidgets. See https://ipywidgets.readthedocs.io/en/stable/user_install.html\n",
      "  from .autonotebook import tqdm as notebook_tqdm\n"
     ]
    }
   ],
   "source": [
    "import torch"
   ]
  },
  {
   "cell_type": "code",
   "execution_count": 2,
   "metadata": {},
   "outputs": [],
   "source": [
    "from model._vgg import _vgg"
   ]
  },
  {
   "cell_type": "code",
   "execution_count": 3,
   "metadata": {},
   "outputs": [],
   "source": [
    "model = _vgg(\"D\", batch_norm=True, init_weights=True, num_classes=10)"
   ]
  },
  {
   "cell_type": "code",
   "execution_count": 5,
   "metadata": {},
   "outputs": [],
   "source": [
    "checkpoint = torch.load(\"model_best.pth.tar\", map_location=\"cpu\")"
   ]
  },
  {
   "cell_type": "code",
   "execution_count": 6,
   "metadata": {},
   "outputs": [
    {
     "data": {
      "text/plain": [
       "<All keys matched successfully>"
      ]
     },
     "execution_count": 6,
     "metadata": {},
     "output_type": "execute_result"
    }
   ],
   "source": [
    "model.load_state_dict(checkpoint[\"state_dict\"])"
   ]
  },
  {
   "cell_type": "code",
   "execution_count": 11,
   "metadata": {},
   "outputs": [],
   "source": [
    "bn_weights = []\n",
    "def process_layer(layer):\n",
    "    if isinstance(layer, torch.nn.BatchNorm2d):\n",
    "        bn_weights.append(layer.weight.detach().cpu())\n",
    "    elif len(list(layer.children())) > 0:\n",
    "        for child in layer.children():\n",
    "            process_layer(child)"
   ]
  },
  {
   "cell_type": "code",
   "execution_count": 12,
   "metadata": {},
   "outputs": [],
   "source": [
    "process_layer(model)"
   ]
  },
  {
   "cell_type": "code",
   "execution_count": 14,
   "metadata": {},
   "outputs": [],
   "source": [
    "variance = torch.load(\"/Users/leo/Downloads/variance_vgg_without_batch_norm (2).pth\")"
   ]
  },
  {
   "cell_type": "code",
   "execution_count": 15,
   "metadata": {},
   "outputs": [
    {
     "data": {
      "text/plain": [
       "17"
      ]
     },
     "execution_count": 15,
     "metadata": {},
     "output_type": "execute_result"
    }
   ],
   "source": [
    "len(variance)"
   ]
  },
  {
   "cell_type": "code",
   "execution_count": 16,
   "metadata": {},
   "outputs": [
    {
     "data": {
      "text/plain": [
       "13"
      ]
     },
     "execution_count": 16,
     "metadata": {},
     "output_type": "execute_result"
    }
   ],
   "source": [
    "len(bn_weights)"
   ]
  },
  {
   "cell_type": "code",
   "execution_count": 17,
   "metadata": {},
   "outputs": [],
   "source": [
    "variance = variance[:13]"
   ]
  },
  {
   "cell_type": "code",
   "execution_count": 19,
   "metadata": {},
   "outputs": [],
   "source": [
    "norm_max = []\n",
    "for i in range(13):\n",
    "    temp = bn_weights[i] / torch.sqrt(variance[i])\n",
    "    norm_max.append(torch.max(torch.abs(temp)).item())"
   ]
  },
  {
   "cell_type": "code",
   "execution_count": 20,
   "metadata": {},
   "outputs": [
    {
     "data": {
      "text/plain": [
       "[2.0290586948394775,\n",
       " 1.1026266813278198,\n",
       " 0.5410735607147217,\n",
       " 0.5094060301780701,\n",
       " 0.35423317551612854,\n",
       " 0.33859482407569885,\n",
       " 0.25902095437049866,\n",
       " 0.39991295337677,\n",
       " 0.533149778842926,\n",
       " 0.9076930284500122,\n",
       " 1.491837978363037,\n",
       " 1.7134259939193726,\n",
       " 2.3568122386932373]"
      ]
     },
     "execution_count": 20,
     "metadata": {},
     "output_type": "execute_result"
    }
   ],
   "source": [
    "norm_max"
   ]
  },
  {
   "cell_type": "code",
   "execution_count": 21,
   "metadata": {},
   "outputs": [],
   "source": [
    "from matplotlib import pyplot as plt"
   ]
  },
  {
   "cell_type": "code",
   "execution_count": 23,
   "metadata": {},
   "outputs": [
    {
     "name": "stderr",
     "output_type": "stream",
     "text": [
      "No artists with labels found to put in legend.  Note that artists whose label start with an underscore are ignored when legend() is called with no argument.\n"
     ]
    },
    {
     "data": {
      "image/png": "[encoded data removed]",
      "text/plain": [
       "<Figure size 400x300 with 1 Axes>"
      ]
     },
     "metadata": {},
     "output_type": "display_data"
    }
   ],
   "source": [
    "fig = plt.figure(figsize=(4, 3))\n",
    "ax = fig.add_subplot(1, 1, 1)\n",
    "ax.set_xlabel(\"Layer\", fontdict={'fontsize':18})\n",
    "ax.set_ylabel(r\"$||\\gamma / \\sigma||$\", fontdict={'fontsize':18})\n",
    "# major_xticks = list(range(20))\n",
    "major_yticks = list(range(50, 110, 10))\n",
    "#ax.set_ylim(50, 102)\n",
    "#ax.set_yticks(major_yticks)\n",
    "# ax.set_xticks(major_xticks)\n",
    "#ax.set_title(\"Norm max variance at layer 20\")\n",
    "#ax.scatter(list(test.keys()), list(test.values()), color=\"red\", label=\"variance\")\n",
    "bn = []\n",
    "no_bn = []\n",
    "plt.plot(list(range(1, 14)), norm_max)\n",
    "# plt.plot(list(range(40)), [float(item) for item in acc5], 'b--', label=\"BN, train\")\n",
    "# plt.plot(list(range(40)), [float(item) for item in test_acc5], color='b',  label=\"BN, test\")\n",
    "# plt.plot(list(range(40)), [float(item) for item in acc5_no], 'r--', label=\"w/o BN, train\")\n",
    "# plt.plot(list(range(40)), [float(item) for item in test_acc5_no], color='r', label=\"w/o BN, test\")\n",
    "ax.legend(fontsize=12)\n",
    "fig.tight_layout()\n",
    "plt.savefig(\"gamma_sigma_vgg.png\", dpi=250)"
   ]
  },
  {
   "cell_type": "code",
   "execution_count": 2,
   "metadata": {},
   "outputs": [],
   "source": [
    "import numpy as np"
   ]
  },
  {
   "cell_type": "code",
   "execution_count": 3,
   "metadata": {},
   "outputs": [],
   "source": [
    "a = np.array([2.0290586948394775,\n",
    " 1.1026266813278198,\n",
    " 0.5410735607147217,\n",
    " 0.5094060301780701,\n",
    " 0.35423317551612854,\n",
    " 0.33859482407569885,\n",
    " 0.25902095437049866,\n",
    " 0.39991295337677,\n",
    " 0.533149778842926,\n",
    " 0.9076930284500122,\n",
    " 1.491837978363037,\n",
    " 1.7134259939193726,\n",
    " 2.3568122386932373])"
   ]
  },
  {
   "cell_type": "code",
   "execution_count": 4,
   "metadata": {},
   "outputs": [
    {
     "data": {
      "text/plain": [
       "array([2.02905869, 2.23729425, 1.21054077, 0.61665677, 0.21844028,\n",
       "       0.07396275, 0.0191579 , 0.00766149, 0.00408472, 0.00370767,\n",
       "       0.00553125, 0.00947739, 0.02233642])"
      ]
     },
     "execution_count": 4,
     "metadata": {},
     "output_type": "execute_result"
    }
   ],
   "source": [
    "np.cumprod(a)"
   ]
  },
  {
   "cell_type": "code",
   "execution_count": null,
   "metadata": {},
   "outputs": [],
   "source": []
  }
 ],
 "metadata": {
  "kernelspec": {
   "display_name": "dropout-diffusion",
   "language": "python",
   "name": "python3"
  },
  "language_info": {
   "codemirror_mode": {
    "name": "ipython",
    "version": 3
   },
   "file_extension": ".py",
   "mimetype": "text/x-python",
   "name": "python",
   "nbconvert_exporter": "python",
   "pygments_lexer": "ipython3",
   "version": "3.9.15"
  },
  "orig_nbformat": 4
 },
 "nbformat": 4,
 "nbformat_minor": 2
}

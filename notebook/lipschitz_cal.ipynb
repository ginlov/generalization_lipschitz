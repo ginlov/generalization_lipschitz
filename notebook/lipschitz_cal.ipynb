{
 "cells": [
  {
   "cell_type": "code",
   "execution_count": 1,
   "metadata": {},
   "outputs": [
    {
     "name": "stderr",
     "output_type": "stream",
     "text": [
      "/Users/leo/miniconda3/envs/dropout-diffusion/lib/python3.9/site-packages/tqdm/auto.py:22: TqdmWarning: IProgress not found. Please update jupyter and ipywidgets. See https://ipywidgets.readthedocs.io/en/stable/user_install.html\n",
      "  from .autonotebook import tqdm as notebook_tqdm\n"
     ]
    }
   ],
   "source": [
    "from torchvision import datasets, transforms"
   ]
  },
  {
   "cell_type": "code",
   "execution_count": 2,
   "metadata": {},
   "outputs": [],
   "source": [
    "import torch"
   ]
  },
  {
   "cell_type": "code",
   "execution_count": 3,
   "metadata": {},
   "outputs": [
    {
     "name": "stdout",
     "output_type": "stream",
     "text": [
      "Downloading https://www.cs.toronto.edu/~kriz/cifar-10-python.tar.gz to cifar_train/cifar-10-python.tar.gz\n"
     ]
    },
    {
     "name": "stderr",
     "output_type": "stream",
     "text": [
      "100%|██████████| 170498071/170498071 [03:18<00:00, 857058.33it/s] \n"
     ]
    },
    {
     "name": "stdout",
     "output_type": "stream",
     "text": [
      "Extracting cifar_train/cifar-10-python.tar.gz to cifar_train\n",
      "Downloading https://www.cs.toronto.edu/~kriz/cifar-10-python.tar.gz to cifar_val/cifar-10-python.tar.gz\n"
     ]
    },
    {
     "name": "stderr",
     "output_type": "stream",
     "text": [
      "100%|██████████| 170498071/170498071 [01:00<00:00, 2825335.06it/s]\n"
     ]
    },
    {
     "name": "stdout",
     "output_type": "stream",
     "text": [
      "Extracting cifar_val/cifar-10-python.tar.gz to cifar_val\n"
     ]
    }
   ],
   "source": [
    "def transform(img: torch.Tensor):\n",
    "    return img * 2 - 1.0\n",
    "\n",
    "train_dataset = datasets.CIFAR10(root=\"cifar_train\", train=True,\n",
    "                                transform=transforms.Compose([\n",
    "                                    transforms.ToTensor(),\n",
    "                                    transform,\n",
    "                                ]),\n",
    "                                download=True\n",
    "                                )\n",
    "val_dataset = datasets.CIFAR10(root=\"cifar_val\", train=False, \n",
    "                            transform=transforms.Compose([\n",
    "                            # transforms.RandomHorizontalFlip(),\n",
    "                            transforms.ToTensor(),\n",
    "                            transform,\n",
    "                            ]),\n",
    "                            download=True)"
   ]
  },
  {
   "cell_type": "code",
   "execution_count": 7,
   "metadata": {},
   "outputs": [],
   "source": [
    "train_loader = torch.utils.data.DataLoader(\n",
    "        train_dataset, batch_size=len(train_dataset), shuffle=False, pin_memory=True)\n",
    "\n",
    "val_loader = torch.utils.data.DataLoader(\n",
    "    val_dataset, batch_size=len(val_dataset), shuffle=False, pin_memory=True)\n",
    "\n",
    "for data in val_loader:\n",
    "    fit_data = data[0].reshape(10000, -1).detach().cpu().numpy()\n",
    "    fit_label = data[1].detach().cpu().numpy()"
   ]
  },
  {
   "cell_type": "code",
   "execution_count": 8,
   "metadata": {},
   "outputs": [],
   "source": [
    "cluster = []\n",
    "for i in range(10):\n",
    "    cluster_data = torch.Tensor(fit_data[fit_label==i])\n",
    "    centroid = torch.mean(cluster_data, dim=0)\n",
    "    distance = torch.nn.functional.pdist(cluster_data, p=2)\n",
    "    diameter = torch.max(distance)\n",
    "    cluster.append({\"centroid\": centroid, \"diameter\": diameter})"
   ]
  },
  {
   "cell_type": "code",
   "execution_count": 9,
   "metadata": {},
   "outputs": [],
   "source": [
    "torch.save(cluster, \"cluster_info.pth\")"
   ]
  },
  {
   "cell_type": "code",
   "execution_count": 28,
   "metadata": {},
   "outputs": [],
   "source": [
    "!python lipschitz_base.py --model 1 --model_type 0 --checkpoint \"/Users/leo/Downloads/model_best.pth (2).tar\""
   ]
  },
  {
   "cell_type": "code",
   "execution_count": 29,
   "metadata": {},
   "outputs": [],
   "source": [
    "test_lipschitz = torch.load(\"lipschitz.pth\")"
   ]
  },
  {
   "cell_type": "code",
   "execution_count": 18,
   "metadata": {},
   "outputs": [],
   "source": [
    "for data in train_loader:\n",
    "    train_data = data[0]\n",
    "    train_label = data[1]"
   ]
  },
  {
   "cell_type": "code",
   "execution_count": 19,
   "metadata": {},
   "outputs": [],
   "source": [
    "from tqdm import tqdm"
   ]
  },
  {
   "cell_type": "code",
   "execution_count": 20,
   "metadata": {},
   "outputs": [
    {
     "name": "stderr",
     "output_type": "stream",
     "text": [
      "100%|██████████| 50000/50000 [00:01<00:00, 36885.81it/s]\n"
     ]
    }
   ],
   "source": [
    "count_ = [0, 0, 0, 0, 0, 0, 0 ,0, 0 ,0]\n",
    "for each in tqdm(train_data):\n",
    "    temp_each = [each.view(-1)]*10\n",
    "    distance = torch.stack(temp_each) - torch.stack([each['centroid'] for each in cluster])\n",
    "    #print(distance)\n",
    "    distance = torch.norm(distance, p=2, dim=1)\n",
    "    label = torch.argmin(distance)\n",
    "    #print(distance.shape)\n",
    "    count_[label.item()] += 1"
   ]
  },
  {
   "cell_type": "code",
   "execution_count": 21,
   "metadata": {},
   "outputs": [
    {
     "data": {
      "text/plain": [
       "[9367, 3635, 1690, 1476, 3875, 5315, 11534, 2739, 4270, 6099]"
      ]
     },
     "execution_count": 21,
     "metadata": {},
     "output_type": "execute_result"
    }
   ],
   "source": [
    "count_"
   ]
  },
  {
   "cell_type": "code",
   "execution_count": 30,
   "metadata": {},
   "outputs": [],
   "source": [
    "for i in range(10):\n",
    "    cluster[i]['m'] = count_[i]\n",
    "    cluster[i]['lipschitz'] = test_lipschitz[i]['lipschitz_const_2']"
   ]
  },
  {
   "cell_type": "code",
   "execution_count": 23,
   "metadata": {},
   "outputs": [],
   "source": [
    "lipschitz = [each[\"diameter\"]*each[\"lipschitz\"]*each[\"m\"] for each in cluster]"
   ]
  },
  {
   "cell_type": "code",
   "execution_count": 31,
   "metadata": {},
   "outputs": [],
   "source": [
    "lipschitz = [\"{0:.3f}\".format(each[\"lipschitz\"]) for each in cluster]"
   ]
  },
  {
   "cell_type": "code",
   "execution_count": 32,
   "metadata": {},
   "outputs": [
    {
     "name": "stdout",
     "output_type": "stream",
     "text": [
      "0.200 & 0.141 & 0.134 & 0.157 & 0.156 & 0.148 & 0.118 & 0.150 & 0.160 & 0.149\n"
     ]
    }
   ],
   "source": [
    "print(\" & \".join(lipschitz))"
   ]
  },
  {
   "cell_type": "code",
   "execution_count": null,
   "metadata": {},
   "outputs": [],
   "source": []
  }
 ],
 "metadata": {
  "kernelspec": {
   "display_name": "dropout-diffusion",
   "language": "python",
   "name": "python3"
  },
  "language_info": {
   "codemirror_mode": {
    "name": "ipython",
    "version": 3
   },
   "file_extension": ".py",
   "mimetype": "text/x-python",
   "name": "python",
   "nbconvert_exporter": "python",
   "pygments_lexer": "ipython3",
   "version": "3.9.15"
  },
  "orig_nbformat": 4
 },
 "nbformat": 4,
 "nbformat_minor": 2
}

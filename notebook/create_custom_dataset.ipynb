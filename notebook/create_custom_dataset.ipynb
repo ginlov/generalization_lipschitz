{
 "cells": [
  {
   "cell_type": "code",
   "execution_count": 9,
   "id": "5dc5d85c-31da-4453-9841-fe88418a266a",
   "metadata": {},
   "outputs": [],
   "source": [
    "from torchvision import datasets, transforms\n",
    "import torch"
   ]
  },
  {
   "cell_type": "code",
   "execution_count": 12,
   "id": "4749f790-dc5e-4052-bee3-b1ebb6fdd9ab",
   "metadata": {},
   "outputs": [
    {
     "name": "stdout",
     "output_type": "stream",
     "text": [
      "Files already downloaded and verified\n"
     ]
    }
   ],
   "source": [
    "cifar10 = datasets.CIFAR10(root=\"cifar_train\", \n",
    "                                         train=True, \n",
    "                                        transform=transforms.Compose([\n",
    "                                        transforms.ToTensor()                                        ]),\n",
    "                                        download=True)\n"
   ]
  },
  {
   "cell_type": "code",
   "execution_count": 13,
   "id": "fe9c7246-96b1-4cc5-a800-f96e214b3054",
   "metadata": {},
   "outputs": [],
   "source": [
    "test_dataset = torch.utils.data.DataLoader(cifar10)"
   ]
  },
  {
   "cell_type": "code",
   "execution_count": 17,
   "id": "dbbb33d0-1d1a-4ff9-9845-3a091640caa8",
   "metadata": {},
   "outputs": [
    {
     "data": {
      "text/plain": [
       "(50000, 32, 32, 3)"
      ]
     },
     "execution_count": 17,
     "metadata": {},
     "output_type": "execute_result"
    }
   ],
   "source": [
    "cifar10.data.shape"
   ]
  },
  {
   "cell_type": "code",
   "execution_count": 22,
   "id": "66e4168d-24b1-4761-9c12-b20271ce20f9",
   "metadata": {},
   "outputs": [
    {
     "data": {
      "text/plain": [
       "torch.Size([50000, 3, 32, 32])"
      ]
     },
     "execution_count": 22,
     "metadata": {},
     "output_type": "execute_result"
    }
   ],
   "source": [
    "transforms.RandAugment()(torch.tensor(cifar10.data.reshape(-1, 3, 32, 32), dtype=torch.uint8)).shape"
   ]
  },
  {
   "cell_type": "code",
   "execution_count": 24,
   "id": "cafd697c-52cf-4f15-a9c4-6ccf3df77776",
   "metadata": {},
   "outputs": [
    {
     "data": {
      "text/plain": [
       "dict_keys(['root', 'transform', 'target_transform', 'transforms', 'train', 'data', 'targets', 'classes', 'class_to_idx'])"
      ]
     },
     "execution_count": 24,
     "metadata": {},
     "output_type": "execute_result"
    }
   ],
   "source": [
    "cifar10.tar.keys()"
   ]
  },
  {
   "cell_type": "code",
   "execution_count": 33,
   "id": "dfec1c78-32a9-4180-9767-2e246178fd01",
   "metadata": {},
   "outputs": [
    {
     "data": {
      "text/plain": [
       "StandardTransform\n",
       "Transform: Compose(\n",
       "               ToTensor()\n",
       "           )"
      ]
     },
     "execution_count": 33,
     "metadata": {},
     "output_type": "execute_result"
    }
   ],
   "source": [
    "cifar10.transforms"
   ]
  },
  {
   "cell_type": "code",
   "execution_count": 34,
   "id": "66c4ec6f-7ad2-46ee-bb79-885ffaee2e1c",
   "metadata": {},
   "outputs": [],
   "source": [
    "new_data = [cifar10.data.reshape(-1, 3, 32, 32)]\n",
    "label = [cifar10.targets]"
   ]
  },
  {
   "cell_type": "code",
   "execution_count": 35,
   "id": "ea8fe4a5-0911-4197-8677-670bcbee176d",
   "metadata": {},
   "outputs": [],
   "source": [
    "for i in range(10):\n",
    "    new_data.append(transforms.RandAugment()(torch.tensor(new_data[0], dtype=torch.uint8)))"
   ]
  },
  {
   "cell_type": "code",
   "execution_count": 36,
   "id": "839c3ad4-ef55-40ca-85e2-8c38335097b8",
   "metadata": {},
   "outputs": [
    {
     "data": {
      "text/plain": [
       "11"
      ]
     },
     "execution_count": 36,
     "metadata": {},
     "output_type": "execute_result"
    }
   ],
   "source": [
    "len(new_data)"
   ]
  },
  {
   "cell_type": "code",
   "execution_count": 42,
   "id": "bbcb9394-64ac-4a87-89f9-78f6e6621db1",
   "metadata": {},
   "outputs": [],
   "source": [
    "import numpy as np"
   ]
  },
  {
   "cell_type": "code",
   "execution_count": 43,
   "id": "fee1c94c-92a8-4a8f-85ed-cf496823ba56",
   "metadata": {},
   "outputs": [],
   "source": [
    "label = [np.array(cifar10.targets)]*11"
   ]
  },
  {
   "cell_type": "code",
   "execution_count": 44,
   "id": "0212e86c-526b-483d-bf53-a6afa03f6978",
   "metadata": {},
   "outputs": [],
   "source": [
    "label = np.concatenate(label)"
   ]
  },
  {
   "cell_type": "code",
   "execution_count": 47,
   "id": "dec79df0-8785-4ff3-bf4e-43fc574e2125",
   "metadata": {},
   "outputs": [],
   "source": [
    "label = label.tolist()"
   ]
  },
  {
   "cell_type": "code",
   "execution_count": null,
   "id": "75a26ebf-1dc6-420b-bdad-68ea0debb98d",
   "metadata": {
    "scrolled": true
   },
   "outputs": [],
   "source": [
    "label"
   ]
  },
  {
   "cell_type": "code",
   "execution_count": 49,
   "id": "45da5ba1-7754-4b59-b579-90ad1a8adc8a",
   "metadata": {},
   "outputs": [
    {
     "name": "stdout",
     "output_type": "stream",
     "text": [
      "Files already downloaded and verified\n"
     ]
    }
   ],
   "source": [
    "cifar10_augment10 = datasets.CIFAR10(root=\"cifar_train\", \n",
    "                                         train=True, \n",
    "                                        transform=transforms.Compose([\n",
    "                                        transforms.ToTensor()\n",
    "                                        ]),\n",
    "                                        download=True)"
   ]
  },
  {
   "cell_type": "code",
   "execution_count": 50,
   "id": "bb296fc8-8202-49f4-8ff8-0d1445451c5e",
   "metadata": {},
   "outputs": [
    {
     "data": {
      "text/plain": [
       "torchvision.datasets.cifar.CIFAR10"
      ]
     },
     "execution_count": 50,
     "metadata": {},
     "output_type": "execute_result"
    }
   ],
   "source": [
    "type(cifar10_augment10)"
   ]
  },
  {
   "cell_type": "code",
   "execution_count": 70,
   "id": "a1507240-1c8f-40c0-a7af-4a9e8890ea3b",
   "metadata": {},
   "outputs": [],
   "source": [
    "class CustomDataset(torch.utils.data.Dataset):\n",
    "    def __init__(\n",
    "        self,\n",
    "        x,\n",
    "        y,\n",
    "        transform,\n",
    "        target_transform=None,\n",
    "        **kwargs\n",
    "    ):\n",
    "        self.x = x\n",
    "        self.y = y\n",
    "        self.transform = transform\n",
    "        self.target_transform = target_transform\n",
    "        super().__init__(**kwargs)\n",
    "\n",
    "    def __getitem__(index):\n",
    "        img, label = self.x[index], self.y[index]\n",
    "        img = Image.fromarray(img)\n",
    "\n",
    "        if self.transform is not None:\n",
    "            img = self.transform(img)\n",
    "\n",
    "        if self.target_transform is not None:\n",
    "            target = self.target_transform(target)\n",
    "\n",
    "        return img, target\n",
    "\n",
    "    def __len__():\n",
    "        return len(self.data)"
   ]
  },
  {
   "cell_type": "code",
   "execution_count": 62,
   "id": "9ee4c742-b809-4439-9abe-38dfd2f59f76",
   "metadata": {},
   "outputs": [
    {
     "data": {
      "text/plain": [
       "dtype('uint8')"
      ]
     },
     "execution_count": 62,
     "metadata": {},
     "output_type": "execute_result"
    }
   ],
   "source": [
    "new_data[0].dtype"
   ]
  },
  {
   "cell_type": "code",
   "execution_count": 63,
   "id": "700c2df5-50ec-48bf-bc84-a4c5d23423f8",
   "metadata": {},
   "outputs": [],
   "source": [
    "for i in range(1, 11):\n",
    "    new_data[i] = new_data[i].numpy()"
   ]
  },
  {
   "cell_type": "code",
   "execution_count": 65,
   "id": "8f53e96f-36ff-4fb7-ab36-0f8c3712f7ed",
   "metadata": {},
   "outputs": [
    {
     "data": {
      "text/plain": [
       "550000"
      ]
     },
     "execution_count": 65,
     "metadata": {},
     "output_type": "execute_result"
    }
   ],
   "source": [
    "len(label)"
   ]
  },
  {
   "cell_type": "code",
   "execution_count": 66,
   "id": "5b853798-f802-4b14-9564-fff37dc5cd2b",
   "metadata": {},
   "outputs": [],
   "source": [
    "new_data = np.concatenate(new_data)"
   ]
  },
  {
   "cell_type": "code",
   "execution_count": 68,
   "id": "8178f37f-7778-49da-99f0-2d4b983eb44f",
   "metadata": {},
   "outputs": [],
   "source": [
    "new_data = new_data.reshape(-1, 32, 32, 3)"
   ]
  },
  {
   "cell_type": "code",
   "execution_count": 71,
   "id": "e367a4aa-3c04-43f1-952e-64108256bec7",
   "metadata": {},
   "outputs": [],
   "source": [
    "cifar10_augment10 = CustomDataset(\n",
    "    x = new_data,\n",
    "    y = label,\n",
    "    transform = transforms.Compose([\n",
    "        transforms.ToTensor()\n",
    "    ])\n",
    ")"
   ]
  },
  {
   "cell_type": "code",
   "execution_count": 73,
   "id": "d1646cb7-5411-4603-8b5f-ca2c534b9a76",
   "metadata": {},
   "outputs": [],
   "source": [
    "torch.save(cifar10_augment10, \"cifar10_augment10.pth\")"
   ]
  },
  {
   "cell_type": "code",
   "execution_count": 74,
   "id": "cd0b7bf8-b18f-4c84-8eb5-420edfc15e2f",
   "metadata": {},
   "outputs": [],
   "source": [
    "from PIL import Image"
   ]
  },
  {
   "cell_type": "code",
   "execution_count": null,
   "id": "be4ae8cd-b778-48f8-8701-ae5d7d1e0f28",
   "metadata": {},
   "outputs": [],
   "source": []
  }
 ],
 "metadata": {
  "kernelspec": {
   "display_name": "Python 3 (ipykernel)",
   "language": "python",
   "name": "python3"
  },
  "language_info": {
   "codemirror_mode": {
    "name": "ipython",
    "version": 3
   },
   "file_extension": ".py",
   "mimetype": "text/x-python",
   "name": "python",
   "nbconvert_exporter": "python",
   "pygments_lexer": "ipython3",
   "version": "3.8.16"
  }
 },
 "nbformat": 4,
 "nbformat_minor": 5
}

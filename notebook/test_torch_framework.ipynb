{
 "cells": [
  {
   "cell_type": "code",
   "execution_count": 1,
   "id": "300f9780-936a-4603-bb12-992019e89c24",
   "metadata": {},
   "outputs": [],
   "source": [
    "import torch"
   ]
  },
  {
   "cell_type": "code",
   "execution_count": 2,
   "id": "af7f0d5a-5130-446a-86e0-430826048bb5",
   "metadata": {},
   "outputs": [],
   "source": [
    "import torchvision"
   ]
  },
  {
   "cell_type": "code",
   "execution_count": 3,
   "id": "e675b582-30e1-47be-8cd1-e93cb00b266f",
   "metadata": {},
   "outputs": [
    {
     "name": "stdout",
     "output_type": "stream",
     "text": [
      "Files already downloaded and verified\n"
     ]
    }
   ],
   "source": [
    "train_dataset = torchvision.datasets.CIFAR10(root=\"cifar_train\", train=True,\n",
    "                                      transform=torchvision.transforms.Compose(\n",
    "                                          [\n",
    "                                              torchvision.transforms.RandomHorizontalFlip(),\n",
    "                                              torchvision.transforms.ToTensor()\n",
    "                                          ]\n",
    "                                      ),\n",
    "                                       download=True\n",
    "                                      )"
   ]
  },
  {
   "cell_type": "code",
   "execution_count": 4,
   "id": "ff87c6be-f47e-4bd5-9d16-c0276528f7dc",
   "metadata": {
    "scrolled": true
   },
   "outputs": [
    {
     "name": "stdout",
     "output_type": "stream",
     "text": [
      "Files already downloaded and verified\n"
     ]
    }
   ],
   "source": [
    "val_dataset = torchvision.datasets.CIFAR10(root=\"cifar_val\", train=False,\n",
    "                                      transform=torchvision.transforms.Compose(\n",
    "                                          [\n",
    "                                              torchvision.transforms.RandomHorizontalFlip(),\n",
    "                                              torchvision.transforms.ToTensor()\n",
    "                                          ]\n",
    "                                      ),\n",
    "                                       download=True\n",
    "                                      )"
   ]
  },
  {
   "cell_type": "code",
   "execution_count": 5,
   "id": "e7f1f6ab-25de-46f6-8990-7170442eedac",
   "metadata": {},
   "outputs": [],
   "source": [
    "dataloader = torch.utils.data.DataLoader(train_dataset, batch_size=128, shuffle=False)"
   ]
  },
  {
   "cell_type": "code",
   "execution_count": 6,
   "id": "40aaa445-d7f9-4e15-9a18-90e426cc948f",
   "metadata": {},
   "outputs": [],
   "source": [
    "for batch in dataloader:\n",
    "    pass"
   ]
  },
  {
   "cell_type": "code",
   "execution_count": 9,
   "id": "4b18eaf3-5645-447d-bb07-858894b2ed5d",
   "metadata": {},
   "outputs": [
    {
     "data": {
      "text/plain": [
       "(torch.Size([80, 3, 32, 32]), torch.Size([80]))"
      ]
     },
     "execution_count": 9,
     "metadata": {},
     "output_type": "execute_result"
    }
   ],
   "source": [
    "batch[0].shape, batch[1].shape"
   ]
  },
  {
   "cell_type": "code",
   "execution_count": 5,
   "id": "7934a8b6-e069-442d-b96f-21241fe34c27",
   "metadata": {},
   "outputs": [],
   "source": [
    "import sys\n",
    "sys.path.append(\"/Users/leo/projects/generalization_lipschitz\")"
   ]
  },
  {
   "cell_type": "code",
   "execution_count": 6,
   "id": "e08c6484-fcae-46e9-b649-f35321d43178",
   "metadata": {},
   "outputs": [],
   "source": [
    "from robustness.split_partitions import *"
   ]
  },
  {
   "cell_type": "code",
   "execution_count": 7,
   "id": "6078e67a-2bf6-418e-8aa1-7423405ff301",
   "metadata": {},
   "outputs": [],
   "source": [
    "centroids = select_partition_centroid(500, train_dataset)"
   ]
  },
  {
   "cell_type": "code",
   "execution_count": 8,
   "id": "511e40b5-5f5c-44aa-a0ad-044ab31f84dc",
   "metadata": {},
   "outputs": [
    {
     "data": {
      "text/plain": [
       "torch.Size([500, 3072])"
      ]
     },
     "execution_count": 8,
     "metadata": {},
     "output_type": "execute_result"
    }
   ],
   "source": [
    "centroids.shape"
   ]
  },
  {
   "cell_type": "code",
   "execution_count": 9,
   "id": "3501a608-7460-4b4b-894a-afac2f92cca2",
   "metadata": {},
   "outputs": [],
   "source": [
    "indices = assign_partition(val_dataset, centroids)"
   ]
  },
  {
   "cell_type": "code",
   "execution_count": 10,
   "id": "6ac3a127-5fd3-46aa-a2df-d4b36ef1ad3a",
   "metadata": {},
   "outputs": [
    {
     "data": {
      "text/plain": [
       "tensor([105, 281,  30,  ..., 260, 105, 419])"
      ]
     },
     "execution_count": 10,
     "metadata": {},
     "output_type": "execute_result"
    }
   ],
   "source": [
    "indices"
   ]
  },
  {
   "cell_type": "code",
   "execution_count": 11,
   "id": "b5e2a953-9a33-4267-858d-ca56c13e2c37",
   "metadata": {},
   "outputs": [],
   "source": [
    "model_checkpoint = torch.load(\"model_best.pth.tar\", map_location=\"cpu\")"
   ]
  },
  {
   "cell_type": "code",
   "execution_count": 12,
   "id": "712d6876-9ca7-4941-b873-d669a875539f",
   "metadata": {},
   "outputs": [],
   "source": [
    "from model._mlp import _mlp"
   ]
  },
  {
   "cell_type": "code",
   "execution_count": 13,
   "id": "03199596-56ec-412f-a1c5-7a4139294605",
   "metadata": {},
   "outputs": [],
   "source": [
    "model = _mlp(in_features=3*32*32, cfg=[1024, 512, 256, 64], norm_layer=None, num_classes=10)"
   ]
  },
  {
   "cell_type": "code",
   "execution_count": 14,
   "id": "e753cd41-0cb9-4562-b120-ea577c812752",
   "metadata": {},
   "outputs": [
    {
     "data": {
      "text/plain": [
       "<All keys matched successfully>"
      ]
     },
     "execution_count": 14,
     "metadata": {},
     "output_type": "execute_result"
    }
   ],
   "source": [
    "model.load_state_dict(model_checkpoint['state_dict'])"
   ]
  },
  {
   "cell_type": "code",
   "execution_count": 15,
   "id": "872a97b5-d3b5-424f-a35c-1b5783c0d7f2",
   "metadata": {
    "scrolled": true
   },
   "outputs": [
    {
     "data": {
      "text/plain": [
       "11.98582935333252"
      ]
     },
     "execution_count": 15,
     "metadata": {},
     "output_type": "execute_result"
    }
   ],
   "source": [
    "calculate_robustness(model=model, test_dataset=val_dataset, indices=indices, loss_func=torch.nn.CrossEntropyLoss(reduction='none'))"
   ]
  },
  {
   "cell_type": "code",
   "execution_count": null,
   "id": "9f5f6516-acec-4fe1-a96d-0332fb28894d",
   "metadata": {},
   "outputs": [],
   "source": []
  }
 ],
 "metadata": {
  "kernelspec": {
   "display_name": "Python 3 (ipykernel)",
   "language": "python",
   "name": "python3"
  },
  "language_info": {
   "codemirror_mode": {
    "name": "ipython",
    "version": 3
   },
   "file_extension": ".py",
   "mimetype": "text/x-python",
   "name": "python",
   "nbconvert_exporter": "python",
   "pygments_lexer": "ipython3",
   "version": "3.8.16"
  }
 },
 "nbformat": 4,
 "nbformat_minor": 5
}

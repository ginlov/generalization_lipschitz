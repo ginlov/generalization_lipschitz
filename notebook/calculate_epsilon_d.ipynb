{
 "cells": [
  {
   "cell_type": "code",
   "execution_count": 1,
   "id": "6cd8c3c1-644f-4416-8ab5-fbf9a07f16ea",
   "metadata": {},
   "outputs": [],
   "source": [
    "import sys\n",
    "sys.path.append(\"/Users/leo/projects/generalization_lipschitz\")"
   ]
  },
  {
   "cell_type": "code",
   "execution_count": 2,
   "id": "8622cd03-6c09-4fa2-8907-16bb1cf37e05",
   "metadata": {},
   "outputs": [],
   "source": [
    "from robustness.split_partitions import *"
   ]
  },
  {
   "cell_type": "code",
   "execution_count": 3,
   "id": "ce74e382-79fa-4d0d-9ebc-c71d8a31ebe0",
   "metadata": {},
   "outputs": [],
   "source": [
    "import torch\n",
    "import torchvision"
   ]
  },
  {
   "cell_type": "code",
   "execution_count": 4,
   "id": "70e90115-16b6-46cd-8aab-ed9fc6d17ab3",
   "metadata": {},
   "outputs": [
    {
     "name": "stdout",
     "output_type": "stream",
     "text": [
      "Files already downloaded and verified\n"
     ]
    }
   ],
   "source": [
    "train_dataset = torchvision.datasets.CIFAR10(root=\"cifar_train\", train=True,\n",
    "                                      transform=torchvision.transforms.Compose(\n",
    "                                          [\n",
    "                                              torchvision.transforms.RandomHorizontalFlip(),\n",
    "                                              torchvision.transforms.ToTensor()\n",
    "                                          ]\n",
    "                                      ),\n",
    "                                       download=True\n",
    "                                      )"
   ]
  },
  {
   "cell_type": "code",
   "execution_count": 5,
   "id": "7b6a9c75-c141-49ec-a1d6-8998e93b7154",
   "metadata": {},
   "outputs": [
    {
     "name": "stdout",
     "output_type": "stream",
     "text": [
      "Files already downloaded and verified\n"
     ]
    }
   ],
   "source": [
    "val_dataset = torchvision.datasets.CIFAR10(root=\"cifar_val\", train=False,\n",
    "                                      transform=torchvision.transforms.Compose(\n",
    "                                          [\n",
    "                                              torchvision.transforms.RandomHorizontalFlip(),\n",
    "                                              torchvision.transforms.ToTensor()\n",
    "                                          ]\n",
    "                                      ),\n",
    "                                       download=True\n",
    "                                      )"
   ]
  },
  {
   "cell_type": "code",
   "execution_count": 6,
   "id": "73c42cc9-2c72-4ffa-8acd-4fe79e142fb9",
   "metadata": {},
   "outputs": [],
   "source": [
    "centroids = select_partition_centroid(100, train_dataset)"
   ]
  },
  {
   "cell_type": "code",
   "execution_count": 7,
   "id": "91cfda13-bade-4e6d-8c53-a0ab11216862",
   "metadata": {},
   "outputs": [],
   "source": [
    "indices = assign_partition(val_dataset, centroids)\n",
    "train_indices = assign_partition(train_dataset, centroids)"
   ]
  },
  {
   "cell_type": "code",
   "execution_count": 8,
   "id": "2cbed0a8-3f78-4ecd-a2fa-0887e6978a19",
   "metadata": {},
   "outputs": [],
   "source": [
    "model_checkpoint = torch.load(\"resnet18.pth.tar\", map_location=\"cpu\")"
   ]
  },
  {
   "cell_type": "code",
   "execution_count": 9,
   "id": "d5686221-743d-4b7a-8e0f-e9daa0ba7917",
   "metadata": {},
   "outputs": [],
   "source": [
    "from model._resnet import _resnet, BasicBlock"
   ]
  },
  {
   "cell_type": "code",
   "execution_count": 11,
   "id": "5279ba00-78b4-469e-b75c-bc8444e7de7d",
   "metadata": {},
   "outputs": [],
   "source": [
    "model = _resnet(block=BasicBlock, layers=[2,2,2,2], norm_layer=None, num_classes=10)"
   ]
  },
  {
   "cell_type": "code",
   "execution_count": 12,
   "id": "d9473742-9eab-45ae-ac57-d47b3189a065",
   "metadata": {},
   "outputs": [
    {
     "data": {
      "text/plain": [
       "<All keys matched successfully>"
      ]
     },
     "execution_count": 12,
     "metadata": {},
     "output_type": "execute_result"
    }
   ],
   "source": [
    "model.load_state_dict(model_checkpoint['state_dict'])"
   ]
  },
  {
   "cell_type": "code",
   "execution_count": null,
   "id": "bbc09349-3f4f-4e55-9d29-2708e7abcb26",
   "metadata": {},
   "outputs": [],
   "source": [
    "calculate_robustness(model=model, train_dataset=train_dataset, test_dataset=val_dataset, train_indices = train_indices, test_indices=indices, loss_func=torch.nn.CrossEntropyLoss(reduction='none'))"
   ]
  },
  {
   "cell_type": "code",
   "execution_count": null,
   "id": "0ca552cd-4475-48df-8aa1-77b8b7f195be",
   "metadata": {},
   "outputs": [],
   "source": []
  }
 ],
 "metadata": {
  "kernelspec": {
   "display_name": "Python 3 (ipykernel)",
   "language": "python",
   "name": "python3"
  },
  "language_info": {
   "codemirror_mode": {
    "name": "ipython",
    "version": 3
   },
   "file_extension": ".py",
   "mimetype": "text/x-python",
   "name": "python",
   "nbconvert_exporter": "python",
   "pygments_lexer": "ipython3",
   "version": "3.8.16"
  }
 },
 "nbformat": 4,
 "nbformat_minor": 5
}

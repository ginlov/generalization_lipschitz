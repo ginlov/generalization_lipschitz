{
 "cells": [
  {
   "cell_type": "code",
   "execution_count": 1,
   "id": "6cd8c3c1-644f-4416-8ab5-fbf9a07f16ea",
   "metadata": {},
   "outputs": [],
   "source": [
    "import sys\n",
    "sys.path.append(\"/Users/leo/projects/generalization_lipschitz\")"
   ]
  },
  {
   "cell_type": "code",
   "execution_count": 2,
   "id": "8622cd03-6c09-4fa2-8907-16bb1cf37e05",
   "metadata": {},
   "outputs": [],
   "source": [
    "from robustness.split_partitions import *"
   ]
  },
  {
   "cell_type": "code",
   "execution_count": 3,
   "id": "ce74e382-79fa-4d0d-9ebc-c71d8a31ebe0",
   "metadata": {},
   "outputs": [],
   "source": [
    "import torch\n",
    "import torchvision"
   ]
  },
  {
   "cell_type": "code",
   "execution_count": 4,
   "id": "70e90115-16b6-46cd-8aab-ed9fc6d17ab3",
   "metadata": {},
   "outputs": [
    {
     "name": "stdout",
     "output_type": "stream",
     "text": [
      "Files already downloaded and verified\n"
     ]
    }
   ],
   "source": [
    "train_dataset = torchvision.datasets.CIFAR10(root=\"cifar_train\", train=True,\n",
    "                                      transform=torchvision.transforms.Compose(\n",
    "                                          [\n",
    "                                              torchvision.transforms.RandomHorizontalFlip(),\n",
    "                                              torchvision.transforms.ToTensor()\n",
    "                                          ]\n",
    "                                      ),\n",
    "                                       download=True\n",
    "                                      )"
   ]
  },
  {
   "cell_type": "code",
   "execution_count": 5,
   "id": "7b6a9c75-c141-49ec-a1d6-8998e93b7154",
   "metadata": {},
   "outputs": [
    {
     "name": "stdout",
     "output_type": "stream",
     "text": [
      "Files already downloaded and verified\n"
     ]
    }
   ],
   "source": [
    "val_dataset = torchvision.datasets.CIFAR10(root=\"cifar_val\", train=False,\n",
    "                                      transform=torchvision.transforms.Compose(\n",
    "                                          [\n",
    "                                              torchvision.transforms.RandomHorizontalFlip(),\n",
    "                                              torchvision.transforms.ToTensor()\n",
    "                                          ]\n",
    "                                      ),\n",
    "                                       download=True\n",
    "                                      )"
   ]
  },
  {
   "cell_type": "code",
   "execution_count": 6,
   "id": "73c42cc9-2c72-4ffa-8acd-4fe79e142fb9",
   "metadata": {},
   "outputs": [],
   "source": [
    "centroids = select_partition_centroid(100, train_dataset)"
   ]
  },
  {
   "cell_type": "code",
   "execution_count": 7,
   "id": "91cfda13-bade-4e6d-8c53-a0ab11216862",
   "metadata": {},
   "outputs": [],
   "source": [
    "indices = assign_partition(val_dataset, centroids)\n",
    "train_indices = assign_partition(train_dataset, centroids)"
   ]
  },
  {
   "cell_type": "code",
   "execution_count": 8,
   "id": "2cbed0a8-3f78-4ecd-a2fa-0887e6978a19",
   "metadata": {},
   "outputs": [],
   "source": [
    "model_checkpoint = torch.load(\"model_best.pth.tar\", map_location=\"cpu\")"
   ]
  },
  {
   "cell_type": "code",
   "execution_count": 9,
   "id": "d5686221-743d-4b7a-8e0f-e9daa0ba7917",
   "metadata": {},
   "outputs": [],
   "source": [
    "from model._mlp import _mlp"
   ]
  },
  {
   "cell_type": "code",
   "execution_count": 10,
   "id": "5279ba00-78b4-469e-b75c-bc8444e7de7d",
   "metadata": {},
   "outputs": [],
   "source": [
    "model = _mlp(in_features=3*32*32, cfg=[1024, 512, 256, 64], norm_layer=None, num_classes=10)"
   ]
  },
  {
   "cell_type": "code",
   "execution_count": 11,
   "id": "d9473742-9eab-45ae-ac57-d47b3189a065",
   "metadata": {},
   "outputs": [
    {
     "data": {
      "text/plain": [
       "<All keys matched successfully>"
      ]
     },
     "execution_count": 11,
     "metadata": {},
     "output_type": "execute_result"
    }
   ],
   "source": [
    "model.load_state_dict(model_checkpoint['state_dict'])"
   ]
  },
  {
   "cell_type": "code",
   "execution_count": 12,
   "id": "bbc09349-3f4f-4e55-9d29-2708e7abcb26",
   "metadata": {},
   "outputs": [
    {
     "name": "stdout",
     "output_type": "stream",
     "text": [
      "tensor([5.9604e-06]) tensor([10.8733])\n",
      "tensor([[15, 36]])\n",
      "tensor([10.8733])\n",
      "tensor([5.9604e-06])\n",
      "tensor([0.0002]) tensor([3.1638])\n",
      "tensor([7.4145e-05]) tensor([5.5116])\n",
      "tensor([1.1921e-07]) tensor([12.4801])\n",
      "tensor([[ 470, 1710],\n",
      "        [ 470, 2082]])\n",
      "tensor([12.4801])\n",
      "tensor([1.1921e-07])\n",
      "tensor([2.1100e-05]) tensor([8.7679])\n",
      "tensor([0.0002]) tensor([1.8038])\n",
      "tensor([0.0001]) tensor([6.5634])\n",
      "tensor([0.0005]) tensor([4.7987])\n",
      "tensor([1.1921e-07]) tensor([10.6401])\n",
      "tensor([6.5325e-05]) tensor([4.3303])\n",
      "tensor([4.7684e-07]) tensor([2.3453])\n",
      "tensor([8.3446e-07]) tensor([6.1895])\n",
      "tensor([0.0022]) tensor([4.2186])\n",
      "tensor([0.0004]) tensor([5.4454])\n",
      "tensor([1.1921e-07]) tensor([9.2638])\n",
      "tensor([2.2888e-05]) tensor([8.7432])\n",
      "tensor([0.0003]) tensor([2.6852])\n",
      "tensor([0.0010]) tensor([2.4453])\n",
      "tensor([-0.]) tensor([11.8933])\n",
      "tensor([0.0002]) tensor([1.7808])\n",
      "tensor([0.0025]) tensor([2.3387])\n",
      "tensor([-0.]) tensor([8.0268])\n",
      "tensor([3.9696e-05]) tensor([6.0650])\n",
      "tensor([-0.]) tensor([6.7844])\n",
      "tensor([3.3378e-05]) tensor([8.8556])\n",
      "tensor([8.1062e-06]) tensor([7.1303])\n",
      "tensor([-0.]) tensor([8.6429])\n",
      "tensor([1.1921e-07]) tensor([10.6169])\n",
      "tensor([5.7934e-05]) tensor([5.6847])\n",
      "tensor([6.9141e-06]) tensor([9.3146])\n",
      "tensor([4.4107e-06]) tensor([0.3321])\n",
      "tensor([3.7550e-05]) tensor([6.5337])\n",
      "tensor([2.3842e-07]) tensor([8.6430])\n",
      "tensor([0.0003]) tensor([9.5972])\n",
      "tensor([0.0020]) tensor([6.3362])\n",
      "tensor([6.5565e-06]) tensor([6.6735])\n",
      "tensor([0.0034]) tensor([7.5507])\n",
      "tensor([3.3259e-05]) tensor([13.0959])\n",
      "tensor([[126,  30]])\n",
      "tensor([13.0959])\n",
      "tensor([3.3259e-05])\n",
      "tensor([0.0008]) tensor([5.4708])\n",
      "tensor([0.0049]) tensor([3.5686])\n",
      "tensor([3.5763e-07]) tensor([6.2985])\n",
      "tensor([0.0072]) tensor([2.8032])\n",
      "tensor([8.4638e-06]) tensor([4.4688])\n",
      "tensor([7.8678e-06]) tensor([6.9469])\n",
      "tensor([-0.]) tensor([7.5388])\n",
      "tensor([4.7684e-06]) tensor([14.9057])\n",
      "tensor([[105, 482]])\n",
      "tensor([14.9057])\n",
      "tensor([4.7684e-06])\n",
      "tensor([1.4305e-06]) tensor([14.1941])\n",
      "tensor([-0.]) tensor([16.5076])\n",
      "tensor([[ 335, 1161],\n",
      "        [ 335, 1374]])\n",
      "tensor([16.5076])\n",
      "tensor([-0.])\n",
      "tensor([0.0027]) tensor([1.6159])\n",
      "tensor([0.0002]) tensor([0.0045])\n",
      "tensor([1.4305e-06]) tensor([4.5621])\n",
      "tensor([5.3644e-06]) tensor([7.2566])\n",
      "tensor([3.8027e-05]) tensor([9.2854])\n",
      "tensor([1.5497e-05]) tensor([7.0975])\n",
      "tensor([5.9604e-06]) tensor([0.8172])\n",
      "tensor([9.4175e-06]) tensor([7.5656])\n",
      "tensor([-0.]) tensor([10.8203])\n",
      "tensor([1.1921e-05]) tensor([9.0510])\n",
      "tensor([0.1358]) tensor([3.2815])\n",
      "tensor([1.1921e-07]) tensor([3.0231])\n",
      "tensor([0.0004]) tensor([2.1968])\n",
      "tensor([-0.]) tensor([9.3597])\n",
      "tensor([-0.]) tensor([6.3064])\n",
      "tensor([5.1974e-05]) tensor([0.1737])\n",
      "tensor([1.0729e-06]) tensor([5.9573])\n",
      "tensor([0.0014]) tensor([6.0385])\n",
      "tensor([1.1921e-06]) tensor([12.6123])\n",
      "tensor([0.0005]) tensor([5.9898])\n",
      "tensor([0.0149]) tensor([1.2241])\n",
      "tensor([1.0729e-05]) tensor([7.2850])\n",
      "tensor([1.4305e-06]) tensor([11.5332])\n",
      "tensor([1.1921e-06]) tensor([6.9008])\n",
      "tensor([0.0010]) tensor([4.4542])\n",
      "tensor([1.9193e-05]) tensor([7.9671])\n",
      "tensor([0.0071]) tensor([4.3238])\n",
      "tensor([0.0003]) tensor([3.4420])\n",
      "tensor([7.5576e-05]) tensor([6.2740])\n",
      "tensor([-0.]) tensor([7.3338])\n",
      "tensor([-0.]) tensor([7.8757])\n",
      "tensor([0.0008]) tensor([0.3052])\n",
      "tensor([4.2557e-05]) tensor([2.8888])\n",
      "tensor([0.3535]) tensor([0.7217])\n",
      "tensor([2.4438e-05]) tensor([3.8423])\n",
      "tensor([1.2636e-05]) tensor([10.3177])\n",
      "tensor([1.1921e-07]) tensor([7.6101])\n",
      "tensor([0.0004]) tensor([6.0601])\n",
      "tensor([0.0001]) tensor([8.3471])\n",
      "tensor([0.0003]) tensor([3.4451])\n",
      "tensor([4.6014e-05]) tensor([4.9092])\n",
      "tensor([8.3446e-07]) tensor([13.7177])\n",
      "tensor([6.7949e-06]) tensor([4.7736])\n"
     ]
    },
    {
     "data": {
      "text/plain": [
       "16.507614135742188"
      ]
     },
     "execution_count": 12,
     "metadata": {},
     "output_type": "execute_result"
    }
   ],
   "source": [
    "calculate_robustness(model=model, train_dataset=train_dataset, test_dataset=val_dataset, train_indices = train_indices, test_indices=indices, loss_func=torch.nn.CrossEntropyLoss(reduction='none'))"
   ]
  },
  {
   "cell_type": "code",
   "execution_count": null,
   "id": "0ca552cd-4475-48df-8aa1-77b8b7f195be",
   "metadata": {},
   "outputs": [],
   "source": []
  }
 ],
 "metadata": {
  "kernelspec": {
   "display_name": "Python 3 (ipykernel)",
   "language": "python",
   "name": "python3"
  },
  "language_info": {
   "codemirror_mode": {
    "name": "ipython",
    "version": 3
   },
   "file_extension": ".py",
   "mimetype": "text/x-python",
   "name": "python",
   "nbconvert_exporter": "python",
   "pygments_lexer": "ipython3",
   "version": "3.8.16"
  }
 },
 "nbformat": 4,
 "nbformat_minor": 5
}
